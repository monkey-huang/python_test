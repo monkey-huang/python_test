{
 "cells": [
  {
   "cell_type": "code",
   "execution_count": 1,
   "metadata": {},
   "outputs": [
    {
     "data": {
      "text/plain": [
       "123"
      ]
     },
     "execution_count": 1,
     "metadata": {},
     "output_type": "execute_result"
    }
   ],
   "source": [
    "123"
   ]
  },
  {
   "cell_type": "code",
   "execution_count": 2,
   "metadata": {},
   "outputs": [],
   "source": [
    "a=3"
   ]
  },
  {
   "cell_type": "code",
   "execution_count": 3,
   "metadata": {},
   "outputs": [
    {
     "name": "stdout",
     "output_type": "stream",
     "text": [
      "3\n"
     ]
    }
   ],
   "source": [
    "print(a)"
   ]
  },
  {
   "cell_type": "code",
   "execution_count": 4,
   "metadata": {},
   "outputs": [
    {
     "name": "stdout",
     "output_type": "stream",
     "text": [
      "Mini point: b = -188.3668387495323 w = 2.6692640713379903\n"
     ]
    },
    {
     "data": {
      "image/png": "[encoded data removed]",
      "text/plain": [
       "<Figure size 432x288 with 1 Axes>"
      ]
     },
     "metadata": {
      "needs_background": "light"
     },
     "output_type": "display_data"
    }
   ],
   "source": [
    "import numpy as np\n",
    "import matplotlib.pyplot as plt\n",
    "\n",
    "x_data=[338, 333, 328, 207, 226, 25, 179, 60, 208, 606]\n",
    "\n",
    "y_data=[640, 633, 619, 393, 428,27, 193, 66, 226, 1591]\n",
    "\n",
    "# 先隨便找一個點\n",
    "b=-120\n",
    "w=-4\n",
    "lr=1                # 學習率\n",
    "iteration=100000    # 計數器\n",
    "\n",
    "b_history=[b]       # 所有的b參數\n",
    "w_history=[w]       # 所有的w參數\n",
    "\n",
    "lr_b=0\n",
    "lr_w=0\n",
    "\n",
    "for i in range(iteration):\n",
    "    \n",
    "    # 我要找這種解: y=wx+b, y為預測值, y'為實際值 \n",
    "    # 我定義公式:(實際值-預測值)**2\n",
    "    # 就是(y'-(wx+b))**2\n",
    "    # 10個點就是\n",
    "    # L(w,b)=sig(10)[(y-(wx+b))**2)]\n",
    "    b_grad=0.0  # 新的b點位移預測\n",
    "    w_grad=0.0  # 新的w點位移預測\n",
    "\n",
    "    for n in range(len(x_data)):\n",
    "        # L(w,b)對b偏微分\n",
    "        b_grad = b_grad -2.0*(y_data[n] - b - w*x_data[n])*1.0\n",
    "\n",
    "        # L(w,b)對w偏微分\n",
    "        w_grad = w_grad -2.0*(y_data[n] - b - w*x_data[n])*x_data[n]\n",
    "\n",
    "    # Adagrad 修改 learning rate  \n",
    "    lr_b = lr_b + b_grad **2\n",
    "    lr_w = lr_w + w_grad **2\n",
    "\n",
    "    b = b - lr/np.sqrt(lr_b)*b_grad # Adagrad\n",
    "    w = w - lr/np.sqrt(lr_w)*w_grad\n",
    "\n",
    "    \n",
    "\n",
    "    b_history.append(b)\n",
    "    w_history.append(w)\n",
    "        \n",
    "print(\"Mini point: b =\",b_history[-1],\"w =\",w_history[-1])\n",
    "plt.plot(b_history, w_history, 'ro')\n",
    "plt.show()"
   ]
  },
  {
   "cell_type": "code",
   "execution_count": null,
   "metadata": {},
   "outputs": [],
   "source": []
  }
 ],
 "metadata": {
  "kernelspec": {
   "display_name": "Python 3",
   "language": "python",
   "name": "python3"
  },
  "language_info": {
   "codemirror_mode": {
    "name": "ipython",
    "version": 3
   },
   "file_extension": ".py",
   "mimetype": "text/x-python",
   "name": "python",
   "nbconvert_exporter": "python",
   "pygments_lexer": "ipython3",
   "version": "3.7.1"
  }
 },
 "nbformat": 4,
 "nbformat_minor": 2
}
