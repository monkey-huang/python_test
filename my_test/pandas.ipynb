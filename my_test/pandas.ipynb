{
 "cells": [
  {
   "cell_type": "code",
   "execution_count": 184,
   "metadata": {},
   "outputs": [
    {
     "name": "stdout",
     "output_type": "stream",
     "text": [
      "0       BMW\n",
      "1      BENZ\n",
      "2    Toyota\n",
      "3    Nissan\n",
      "4     Lexus\n",
      "dtype: object\n"
     ]
    }
   ],
   "source": [
    "#pd.Series(data, index = idx)\n",
    "import pandas as pd # 引用套件並縮寫為 pd\n",
    "\n",
    "cars = [\"BMW\", \"BENZ\", \"Toyota\", \"Nissan\", \"Lexus\"]\n",
    "\n",
    "select = pd.Series(cars)  \n",
    "print(select)  "
   ]
  },
  {
   "cell_type": "code",
   "execution_count": 191,
   "metadata": {},
   "outputs": [
    {
     "name": "stdout",
     "output_type": "stream",
     "text": [
      "factory    Taipei\n",
      "sensor1         1\n",
      "sensor2         2\n",
      "sensor3         3\n",
      "sensor4         4\n",
      "sensor5         5\n",
      "dtype: object\n",
      "=====\n",
      "Taipei\n",
      "=====\n",
      "1\n",
      "=====\n",
      "factory    Taipei\n",
      "sensor2         2\n",
      "sensor4         4\n",
      "dtype: object\n",
      "=====\n",
      "factory    Taipei\n",
      "sensor1         1\n",
      "sensor3         3\n",
      "dtype: object\n"
     ]
    }
   ],
   "source": [
    "dict = {  \n",
    "    \"factory\": \"Taipei\",\n",
    "    \"sensor1\": \"1\",\n",
    "    \"sensor2\": \"2\",\n",
    "    \"sensor3\": \"3\",\n",
    "    \"sensor4\": \"4\",\n",
    "    \"sensor5\": \"5\"\n",
    "}\n",
    "\n",
    "select = pd.Series(dict) # 排序與原 dict 相同  \n",
    "print(select)\n",
    "print(\"=====\")\n",
    "print(select[0])  \n",
    "print(\"=====\")  \n",
    "print(select['sensor1'])  \n",
    "print(\"=====\")  \n",
    "print(select[[0, 2, 4]])  #list\n",
    "print(\"=====\")  \n",
    "print(select[['factory', 'sensor1', 'sensor3']])  "
   ]
  },
  {
   "cell_type": "code",
   "execution_count": 195,
   "metadata": {},
   "outputs": [
    {
     "data": {
      "text/plain": [
       "factory    Taipei\n",
       "sensor1         1\n",
       "sensor2         2\n",
       "sensor3         3\n",
       "sensor4         4\n",
       "sensor5         5\n",
       "dtype: object"
      ]
     },
     "execution_count": 195,
     "metadata": {},
     "output_type": "execute_result"
    }
   ],
   "source": [
    "dict.keys()\n",
    "select"
   ]
  },
  {
   "cell_type": "code",
   "execution_count": 197,
   "metadata": {},
   "outputs": [
    {
     "name": "stdout",
     "output_type": "stream",
     "text": [
      "0    BENZ\n",
      "1    BENZ\n",
      "2    BENZ\n",
      "3    BENZ\n",
      "4    BENZ\n",
      "dtype: object\n"
     ]
    }
   ],
   "source": [
    "cars = \"BENZ\"  \n",
    "select = pd.Series(cars, index = range(5))  \n",
    "print(select)  "
   ]
  },
  {
   "cell_type": "code",
   "execution_count": 198,
   "metadata": {},
   "outputs": [
    {
     "name": "stdout",
     "output_type": "stream",
     "text": [
      "    groups  num\n",
      "0   Movies   46\n",
      "1   Sports    8\n",
      "2   Coding   12\n",
      "3  Fishing   12\n",
      "4  Dancing    6\n",
      "5  cooking   58\n"
     ]
    }
   ],
   "source": [
    "groups = [\"Movies\", \"Sports\", \"Coding\", \"Fishing\", \"Dancing\", \"cooking\"]  \n",
    "num = [46, 8, 12, 12, 6, 58]\n",
    "\n",
    "dict = {\"groups\": groups,  \n",
    "        \"num\": num\n",
    "       }\n",
    "\n",
    "select_df = pd.DataFrame(dict)\n",
    "\n",
    "print(select_df) # 看看資料框的外觀  "
   ]
  },
  {
   "cell_type": "code",
   "execution_count": 199,
   "metadata": {},
   "outputs": [
    {
     "name": "stdout",
     "output_type": "stream",
     "text": [
      "      name  num\n",
      "0   Movies   46\n",
      "1   Sports    8\n",
      "2   Coding   12\n",
      "3  Fishing   12\n",
      "4  Dancing    6\n",
      "5  cooking    8\n"
     ]
    }
   ],
   "source": [
    "arr = groups = [[\"Movies\", 46],[\"Sports\", 8], [\"Coding\", 12], [\"Fishing\",12], [\"Dancing\",6], [\"cooking\",8]]\n",
    "\n",
    "df = pd.DataFrame(arr, columns = [\"name\", \"num\"]) # 指定欄標籤名稱  \n",
    "print(df)  "
   ]
  },
  {
   "cell_type": "code",
   "execution_count": 203,
   "metadata": {},
   "outputs": [
    {
     "name": "stdout",
     "output_type": "stream",
     "text": [
      "   shop id shop name  maket size\n",
      "0        1  Wal mart   3000000.0\n",
      "1        2    Costco   2000000.0\n",
      "2        3       NaN   1500000.0\n",
      "3        4    Pchome    300000.0\n",
      "4        5     Yahoo         NaN\n",
      "---\n",
      "0    False\n",
      "1    False\n",
      "2     True\n",
      "3    False\n",
      "4    False\n",
      "Name: shop name, dtype: bool\n",
      "---\n",
      "0     True\n",
      "1     True\n",
      "2     True\n",
      "3     True\n",
      "4    False\n",
      "Name: maket size, dtype: bool\n"
     ]
    },
    {
     "name": "stderr",
     "output_type": "stream",
     "text": [
      "C:\\Users\\huangxing\\Anaconda3\\lib\\site-packages\\ipykernel_launcher.py:8: DeprecationWarning: \n",
      ".ix is deprecated. Please use\n",
      ".loc for label based indexing or\n",
      ".iloc for positional indexing\n",
      "\n",
      "See the documentation here:\n",
      "http://pandas.pydata.org/pandas-docs/stable/indexing.html#ix-indexer-is-deprecated\n",
      "  \n",
      "C:\\Users\\huangxing\\Anaconda3\\lib\\site-packages\\ipykernel_launcher.py:10: DeprecationWarning: \n",
      ".ix is deprecated. Please use\n",
      ".loc for label based indexing or\n",
      ".iloc for positional indexing\n",
      "\n",
      "See the documentation here:\n",
      "http://pandas.pydata.org/pandas-docs/stable/indexing.html#ix-indexer-is-deprecated\n",
      "  # Remove the CWD from sys.path while we load stuff.\n"
     ]
    }
   ],
   "source": [
    "df = pd.read_csv('shop_list2.csv')  \n",
    "print(df)\n",
    "\n",
    "# 讀取後放入 DataFrame\n",
    "select_df = pd.DataFrame(df)\n",
    "\n",
    "print(\"---\") \n",
    "print(select_df.ix[:, \"shop name\"].isnull()) # 判斷哪些店名是遺失值  \n",
    "print(\"---\")  \n",
    "print(select_df.ix[:, \"maket size\"].notnull()) # 判斷哪些市場規模不是遺失值\n",
    "\n",
    "# 可以透過 ix 方法（利用索引值或欄位）選擇 data frame 區段"
   ]
  },
  {
   "cell_type": "code",
   "execution_count": 202,
   "metadata": {},
   "outputs": [
    {
     "data": {
      "text/html": [
       "<div>\n",
       "<style scoped>\n",
       "    .dataframe tbody tr th:only-of-type {\n",
       "        vertical-align: middle;\n",
       "    }\n",
       "\n",
       "    .dataframe tbody tr th {\n",
       "        vertical-align: top;\n",
       "    }\n",
       "\n",
       "    .dataframe thead th {\n",
       "        text-align: right;\n",
       "    }\n",
       "</style>\n",
       "<table border=\"1\" class=\"dataframe\">\n",
       "  <thead>\n",
       "    <tr style=\"text-align: right;\">\n",
       "      <th></th>\n",
       "      <th>shop id</th>\n",
       "      <th>shop name</th>\n",
       "      <th>maket size</th>\n",
       "    </tr>\n",
       "  </thead>\n",
       "  <tbody>\n",
       "    <tr>\n",
       "      <th>0</th>\n",
       "      <td>1</td>\n",
       "      <td>Wal mart</td>\n",
       "      <td>3000000.0</td>\n",
       "    </tr>\n",
       "    <tr>\n",
       "      <th>1</th>\n",
       "      <td>2</td>\n",
       "      <td>Costco</td>\n",
       "      <td>2000000.0</td>\n",
       "    </tr>\n",
       "    <tr>\n",
       "      <th>3</th>\n",
       "      <td>4</td>\n",
       "      <td>Pchome</td>\n",
       "      <td>300000.0</td>\n",
       "    </tr>\n",
       "  </tbody>\n",
       "</table>\n",
       "</div>"
      ],
      "text/plain": [
       "   shop id shop name  maket size\n",
       "0        1  Wal mart   3000000.0\n",
       "1        2    Costco   2000000.0\n",
       "3        4    Pchome    300000.0"
      ]
     },
     "execution_count": 202,
     "metadata": {},
     "output_type": "execute_result"
    }
   ],
   "source": [
    "select_df.dropna() "
   ]
  },
  {
   "cell_type": "code",
   "execution_count": null,
   "metadata": {},
   "outputs": [],
   "source": []
  }
 ],
 "metadata": {
  "kernelspec": {
   "display_name": "Python 3",
   "language": "python",
   "name": "python3"
  },
  "language_info": {
   "codemirror_mode": {
    "name": "ipython",
    "version": 3
   },
   "file_extension": ".py",
   "mimetype": "text/x-python",
   "name": "python",
   "nbconvert_exporter": "python",
   "pygments_lexer": "ipython3",
   "version": "3.7.1"
  }
 },
 "nbformat": 4,
 "nbformat_minor": 2
}
