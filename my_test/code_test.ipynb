{
 "cells": [
  {
   "cell_type": "code",
   "execution_count": 2,
   "metadata": {},
   "outputs": [
    {
     "data": {
      "text/plain": [
       "array([7, 4, 4, ..., 3, 1, 8])"
      ]
     },
     "execution_count": 2,
     "metadata": {},
     "output_type": "execute_result"
    }
   ],
   "source": [
    "#Loading the data set - training data.\n",
    "from sklearn.datasets import fetch_20newsgroups\n",
    "twenty_train = fetch_20newsgroups(subset='train', shuffle=True) #shuffle 將數據洗牌\n",
    "twenty_train.target_names\n",
    "twenty_train.target"
   ]
  },
  {
   "cell_type": "code",
   "execution_count": 3,
   "metadata": {},
   "outputs": [
    {
     "data": {
      "text/plain": [
       "(11314, 130107)"
      ]
     },
     "execution_count": 3,
     "metadata": {},
     "output_type": "execute_result"
    }
   ],
   "source": [
    "from sklearn.feature_extraction.text import CountVectorizer\n",
    "count_vect = CountVectorizer()\n",
    "X_train_counts = count_vect.fit_transform(twenty_train.data)\n",
    "X_train_counts.shape #11314個句子,130107個單字"
   ]
  },
  {
   "cell_type": "code",
   "execution_count": 4,
   "metadata": {},
   "outputs": [
    {
     "name": "stdout",
     "output_type": "stream",
     "text": [
      "  (0, 1)\t1\n",
      "  (0, 2)\t1\n",
      "  (0, 6)\t1\n",
      "  (0, 3)\t1\n",
      "  (0, 8)\t1\n",
      "  (1, 5)\t2\n",
      "  (1, 1)\t1\n",
      "  (1, 6)\t1\n",
      "  (1, 3)\t1\n",
      "  (1, 8)\t1\n",
      "  (2, 4)\t1\n",
      "  (2, 7)\t1\n",
      "  (2, 0)\t1\n",
      "  (2, 6)\t1\n",
      "  (3, 1)\t1\n",
      "  (3, 2)\t1\n",
      "  (3, 6)\t1\n",
      "  (3, 3)\t1\n",
      "  (3, 8)\t1\n",
      "(4, 9)\n",
      "['and', 'document', 'first', 'is', 'one', 'second', 'the', 'third', 'this']\n"
     ]
    }
   ],
   "source": [
    "corpus = [\n",
    "        'This is the first document.',\n",
    "        'This is the second second document.',\n",
    "        'And the third one.',\n",
    "        'Is this the first document?'\n",
    "        ]\n",
    "\n",
    "# 将文本中的词语，转换成词频矩阵\n",
    "\n",
    "vectorizer = CountVectorizer()\n",
    "\n",
    "# 计算词语出现的频率\n",
    "X = vectorizer.fit_transform(corpus)\n",
    "print(X)\n",
    "# 获取词袋中所有文本关键词\n",
    "\n",
    "print(X.shape)\n",
    "\n",
    "words = vectorizer.get_feature_names()#句子有的任何單字不重複列印出來\n",
    "print(words) \n",
    "## print(words.target)\n"
   ]
  },
  {
   "cell_type": "code",
   "execution_count": 15,
   "metadata": {},
   "outputs": [
    {
     "name": "stdout",
     "output_type": "stream",
     "text": [
      "  (0, 8)\t0.4387767428592343\n",
      "  (0, 6)\t0.35872873824808993\n",
      "  (0, 3)\t0.4387767428592343\n",
      "  (0, 2)\t0.5419765697264572\n",
      "  (0, 1)\t0.4387767428592343\n",
      "  (1, 8)\t0.2723014675233404\n",
      "  (1, 6)\t0.22262429232510395\n",
      "  (1, 5)\t0.8532257361452786\n",
      "  (1, 3)\t0.2723014675233404\n",
      "  (1, 1)\t0.2723014675233404\n",
      "  (2, 7)\t0.5528053199908667\n",
      "  (2, 6)\t0.2884767487500274\n",
      "  (2, 4)\t0.5528053199908667\n",
      "  (2, 0)\t0.5528053199908667\n",
      "  (3, 8)\t0.4387767428592343\n",
      "  (3, 6)\t0.35872873824808993\n",
      "  (3, 3)\t0.4387767428592343\n",
      "  (3, 2)\t0.5419765697264572\n",
      "  (3, 1)\t0.4387767428592343\n"
     ]
    }
   ],
   "source": [
    "# TF-IDF\n",
    "from sklearn.feature_extraction.text import TfidfTransformer\n",
    "tfidf_transformer = TfidfTransformer()\n",
    "X_train_tfidf = tfidf_transformer.fit_transform(X)\n",
    "print(X_train_tfidf)"
   ]
  },
  {
   "cell_type": "code",
   "execution_count": 6,
   "metadata": {},
   "outputs": [
    {
     "data": {
      "text/plain": [
       "<Figure size 640x480 with 1 Axes>"
      ]
     },
     "metadata": {},
     "output_type": "display_data"
    }
   ],
   "source": [
    "from matplotlib import pyplot as plt\n",
    "from collections import Counter\n",
    "\n",
    "even_number=[x for x in range(10) if x%2==0]\n",
    "my_test=[0 for _ in even_number]\n",
    "\n",
    "movie=[\"AC\",\"BB\",\"EE\",\"DD\",\"RR\"]\n",
    "my_num=[6,8,9,15,16]\n",
    "xs=[i+0.1 for i,_ in enumerate(movie)]\n",
    "\n",
    "plt.bar(xs,my_num)\n",
    "plt.xticks([i for i,_ in enumerate(movie)],movie)\n",
    "plt.show()\n",
    "def decile(num):  # 將數字十分位化\n",
    "    return (num // 10) * 10"
   ]
  },
  {
   "cell_type": "code",
   "execution_count": 12,
   "metadata": {},
   "outputs": [
    {
     "data": {
      "text/plain": [
       "Counter({0: 3, 10: 2})"
      ]
     },
     "execution_count": 12,
     "metadata": {},
     "output_type": "execute_result"
    }
   ],
   "source": [
    "Counter(decile(grade) for grade in my_num)"
   ]
  },
  {
   "cell_type": "code",
   "execution_count": 18,
   "metadata": {},
   "outputs": [
    {
     "name": "stdout",
     "output_type": "stream",
     "text": [
      "0 justice\n",
      "1 can\n",
      "2 hall\n"
     ]
    }
   ],
   "source": [
    "moviess = [\"justice\",\"can\",\"hall\"]\n",
    "for i,j in enumerate(moviess):\n",
    "    print (i,j)"
   ]
  },
  {
   "cell_type": "code",
   "execution_count": null,
   "metadata": {},
   "outputs": [],
   "source": [
    "vector=[[1,2],[2,3],[3,4]]\n",
    "result=vector[0]\n",
    "for v in vector[1:]:\n",
    "    result="
   ]
  },
  {
   "cell_type": "code",
   "execution_count": null,
   "metadata": {},
   "outputs": [],
   "source": []
  }
 ],
 "metadata": {
  "kernelspec": {
   "display_name": "Python 3",
   "language": "python",
   "name": "python3"
  },
  "language_info": {
   "codemirror_mode": {
    "name": "ipython",
    "version": 3
   },
   "file_extension": ".py",
   "mimetype": "text/x-python",
   "name": "python",
   "nbconvert_exporter": "python",
   "pygments_lexer": "ipython3",
   "version": "3.7.1"
  }
 },
 "nbformat": 4,
 "nbformat_minor": 2
}
